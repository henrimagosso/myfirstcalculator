{
  "nbformat": 4,
  "nbformat_minor": 0,
  "metadata": {
    "colab": {
      "provenance": []
    },
    "kernelspec": {
      "name": "python3",
      "display_name": "Python 3"
    },
    "language_info": {
      "name": "python"
    }
  },
  "cells": [
    {
      "cell_type": "code",
      "execution_count": 10,
      "metadata": {
        "colab": {
          "base_uri": "https://localhost:8080/"
        },
        "id": "uIDD4vur8nlA",
        "outputId": "78366d5d-ef42-4d98-904c-b1ec81d60967"
      },
      "outputs": [
        {
          "output_type": "stream",
          "name": "stdout",
          "text": [
            "Digite o primeiro número: \n",
            "\n",
            "6\n",
            "Digite o segundo número: \n",
            "\n",
            "4\n",
            "Qual cálculo deseja realizar: \n",
            "\n",
            "use + para adição\n",
            "\n",
            "use - para subtração\n",
            "\n",
            "use x para multiplicação\n",
            "\n",
            "use / para divisão\n",
            "\n",
            "use ^ para exponenciação\n",
            "\n",
            "use % para percentual\n",
            "\n",
            "l\n",
            "Impossível calcular.\n"
          ]
        }
      ],
      "source": [
        "#Calculadora interativa com o usuário\n",
        "\n",
        "resultado=0 #Variável que receberá o valor obtido de acordo com o cálculo escolhido\n",
        "print('Digite o primeiro número: \\n')\n",
        "num1=float(input())\n",
        "print('Digite o segundo número: \\n')\n",
        "num2=float(input())\n",
        "print('''Qual cálculo deseja realizar: \\n\n",
        "use + para adição\\n\n",
        "use - para subtração\\n\n",
        "use x para multiplicação\\n\n",
        "use / para divisão\\n\n",
        "use ^ para exponenciação\\n\n",
        "use % para percentual\n",
        "''')\n",
        "operador=input()#Variável responsável pela execução de um operador matemático desejado pelo usuário\n",
        "\n",
        "if(operador=='+'):#cálculo e impressão da soma\n",
        "  resultado=num1+num2\n",
        "  print(f\"{num1}+{num2}={resultado}\")\n",
        "elif(operador=='-'):#cálculo e impressão da subtração\n",
        "  resultado=num1-num2\n",
        "  print(f\"{num1}-{num2}={resultado}\")\n",
        "elif(operador=='x'):#cálculo e impressão da multiplicação\n",
        "  resultado=num1*num2\n",
        "  print(f'{num1}x{num2}={resultado}')\n",
        "elif(operador=='/' and num2!=0):#cálculo e impressão da divisão\n",
        "  resultado=num1/num2\n",
        "  print(f'{num1}/{num2}={resultado}')#indeterminação matemática\n",
        "elif(operador=='/' and num2==0):\n",
        "  print('Impossível dividir um número por zero')\n",
        "elif(operador=='^'):#cálculo e impressão da exponenciação\n",
        "  resultado=num1**num2\n",
        "  print(f'{num1}^{num2}={resultado}')\n",
        "elif(operador=='%'):#cálculo e impressão do percentual\n",
        "  resultado=(num1/num2)*100\n",
        "  print(f'{num1} é {resultado}% de {num2}')\n",
        "if(operador!='+' and operador!='-' and operador!='x' and operador!='/' and operador!='^' and operador!='%'):#aviso ao usuário caso este digite algo não previamente acordado\n",
        "  print(\"Impossível calcular.\")\n"
      ]
    }
  ]
}