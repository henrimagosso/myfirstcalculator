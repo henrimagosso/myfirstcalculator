{
  "nbformat": 4,
  "nbformat_minor": 0,
  "metadata": {
    "colab": {
      "provenance": []
    },
    "kernelspec": {
      "name": "python3",
      "display_name": "Python 3"
    },
    "language_info": {
      "name": "python"
    }
  },
  "cells": [
    {
      "cell_type": "code",
      "execution_count": 14,
      "metadata": {
        "colab": {
          "base_uri": "https://localhost:8080/"
        },
        "id": "uIDD4vur8nlA",
        "outputId": "387054d7-478d-403d-9e9e-16c43a89a84d"
      },
      "outputs": [
        {
          "name": "stdout",
          "output_type": "stream",
          "text": [
            "Digite o primeiro número: \n",
            "\n",
            "6\n",
            "Digite o segundo número: \n",
            "\n",
            "9\n",
            "Qual cálculo deseja realizar: \n",
            "\n",
            "  use + para adição\n",
            "\n",
            "  use - para subtração\n",
            "\n",
            "  use x para multiplicação\n",
            "\n",
            "  use / para divisão\n",
            "\n",
            "  use ^ para exponenciação\n",
            "\n",
            "  use % para percentual\n",
            "  \n",
            "/\n",
            "6.0/9.0=0.6666666666666666\n",
            "Deseja realizar outra conta?s\n",
            "Digite o primeiro número: \n",
            "\n",
            "19\n",
            "Digite o segundo número: \n",
            "\n",
            "68\n",
            "Qual cálculo deseja realizar: \n",
            "\n",
            "  use + para adição\n",
            "\n",
            "  use - para subtração\n",
            "\n",
            "  use x para multiplicação\n",
            "\n",
            "  use / para divisão\n",
            "\n",
            "  use ^ para exponenciação\n",
            "\n",
            "  use % para percentual\n",
            "  \n",
            "/\n",
            "19.0/68.0=0.27941176470588236\n",
            "Deseja realizar outra conta?l\n"
          ]
        }
      ],
      "source": [
        "#Calculadora interativa com o usuário\n",
        "while True:\n",
        "  resultado=0 #Variável que receberá o valor obtido de acordo com o cálculo escolhido\n",
        "  print('Digite o primeiro número: \\n')\n",
        "  num1=float(input())\n",
        "  print('Digite o segundo número: \\n')\n",
        "  num2=float(input())\n",
        "  print('''Qual cálculo deseja realizar: \\n\n",
        "  use + para adição\\n\n",
        "  use - para subtração\\n\n",
        "  use x para multiplicação\\n\n",
        "  use / para divisão\\n\n",
        "  use ^ para exponenciação\\n\n",
        "  use % para percentual\n",
        "  ''')\n",
        "  operador=input()#Variável responsável pela execução de um operador matemático desejado pelo usuário\n",
        "\n",
        "  if(operador=='+'):#cálculo e impressão da soma\n",
        "    resultado=num1+num2\n",
        "    print(f\"{num1}+{num2}={resultado}\")\n",
        "  elif(operador=='-'):#cálculo e impressão da subtração\n",
        "    resultado=num1-num2\n",
        "    print(f\"{num1}-{num2}={resultado}\")\n",
        "  elif(operador=='x'):#cálculo e impressão da multiplicação\n",
        "    resultado=num1*num2\n",
        "    print(f'{num1}x{num2}={resultado}')\n",
        "  elif(operador=='/' and num2!=0):#cálculo e impressão da divisão\n",
        "    resultado=num1/num2\n",
        "    print(f'{num1}/{num2}={resultado}')#indeterminação matemática\n",
        "  elif(operador=='/' and num2==0):\n",
        "    print('Impossível dividir um número por zero')\n",
        "  elif(operador=='^'):#cálculo e impressão da exponenciação\n",
        "    resultado=num1**num2\n",
        "    print(f'{num1}^{num2}={resultado}')\n",
        "  elif(operador=='%'):#cálculo e impressão do percentual\n",
        "    resultado=(num1/num2)*100\n",
        "    print(f'{num1} é {resultado}% de {num2}')\n",
        "  if(operador!='+' and operador!='-' and operador!='x' and operador!='/' and operador!='^' and operador!='%'):#aviso ao usuário caso este digite algo não previamente acordado\n",
        "    print(\"Impossível calcular.\")\n",
        "\n",
        "  if (input(\"Deseja realizar outra conta?\").lower() !='s'):# para o usuário escolher se quer ou não fazer outra operção\n",
        "     break"
      ]
    }
  ]
}